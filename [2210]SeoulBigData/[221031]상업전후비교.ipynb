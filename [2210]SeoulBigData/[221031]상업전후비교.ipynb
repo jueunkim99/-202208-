{
 "cells": [
  {
   "cell_type": "markdown",
   "metadata": {},
   "source": [
    "## 0. 환경설정"
   ]
  },
  {
   "cell_type": "code",
   "execution_count": 2,
   "metadata": {},
   "outputs": [],
   "source": [
    "import pandas as pd\n",
    "import numpy as np\n",
    "import matplotlib.pyplot as plt\n",
    "import seaborn as sns\n",
    "#!pip install geopandas\n",
    "import geopandas as gpd\n",
    "\n",
    "import warnings\n",
    "warnings.filterwarnings(\"ignore\")\n",
    "pd.set_option('display.max_columns', None)\n",
    "pd.set_option('display.max_rows', None)\n",
    "\n",
    "# 시각화 관련\n",
    "from wordcloud import WordCloud, STOPWORDS, ImageColorGenerator\n",
    "from collections import Counter\n",
    "from PIL import Image\n",
    "from matplotlib import rc\n",
    "\n",
    "# 그래프에서 한글 폰트 깨지는 문제에 대한 대처(전역 글꼴 설정)\n",
    "import matplotlib.font_manager as fm\n",
    "import warnings\n",
    "warnings.filterwarnings(action='ignore') \n",
    "\n",
    "import matplotlib\n",
    "matplotlib.rcParams['font.family'] ='Malgun Gothic'\n",
    "matplotlib.rcParams['axes.unicode_minus'] =False"
   ]
  },
  {
   "cell_type": "markdown",
   "metadata": {},
   "source": [
    "## 1. 전처리\n",
    "* 구상권코드 + 행정동 + 행정동코드 + 2016,2017"
   ]
  },
  {
   "cell_type": "code",
   "execution_count": 26,
   "metadata": {},
   "outputs": [
    {
     "data": {
      "text/html": [
       "<div>\n",
       "<style scoped>\n",
       "    .dataframe tbody tr th:only-of-type {\n",
       "        vertical-align: middle;\n",
       "    }\n",
       "\n",
       "    .dataframe tbody tr th {\n",
       "        vertical-align: top;\n",
       "    }\n",
       "\n",
       "    .dataframe thead th {\n",
       "        text-align: right;\n",
       "    }\n",
       "</style>\n",
       "<table border=\"1\" class=\"dataframe\">\n",
       "  <thead>\n",
       "    <tr style=\"text-align: right;\">\n",
       "      <th></th>\n",
       "      <th>상권_코드</th>\n",
       "      <th>행정동코드</th>\n",
       "    </tr>\n",
       "  </thead>\n",
       "  <tbody>\n",
       "    <tr>\n",
       "      <th>0</th>\n",
       "      <td>1001453</td>\n",
       "      <td>11620585</td>\n",
       "    </tr>\n",
       "    <tr>\n",
       "      <th>1</th>\n",
       "      <td>1001454</td>\n",
       "      <td>11620595</td>\n",
       "    </tr>\n",
       "    <tr>\n",
       "      <th>2</th>\n",
       "      <td>1001474</td>\n",
       "      <td>11680650</td>\n",
       "    </tr>\n",
       "  </tbody>\n",
       "</table>\n",
       "</div>"
      ],
      "text/plain": [
       "     상권_코드     행정동코드\n",
       "0  1001453  11620585\n",
       "1  1001454  11620595\n",
       "2  1001474  11680650"
      ]
     },
     "execution_count": 26,
     "metadata": {},
     "output_type": "execute_result"
    }
   ],
   "source": [
    "d1 = gpd.read_file('data/서울시_우리마을가게_상권분석서비스(구_상권영역)/TBGIS_TRDAR_RELM.shp',encoding='cp949')\n",
    "d1 = d1[['TRDAR_CD','ADSTRD_CD']]\n",
    "d1.columns = ['상권_코드','행정동코드']\n",
    "d1 = d1.astype('int64')\n",
    "d1.head(3)\n",
    "#상권코드 = TRDAR_CD\n",
    "#ADSTRD_CD"
   ]
  },
  {
   "cell_type": "code",
   "execution_count": 21,
   "metadata": {},
   "outputs": [
    {
     "data": {
      "text/html": [
       "<div>\n",
       "<style scoped>\n",
       "    .dataframe tbody tr th:only-of-type {\n",
       "        vertical-align: middle;\n",
       "    }\n",
       "\n",
       "    .dataframe tbody tr th {\n",
       "        vertical-align: top;\n",
       "    }\n",
       "\n",
       "    .dataframe thead th {\n",
       "        text-align: right;\n",
       "    }\n",
       "</style>\n",
       "<table border=\"1\" class=\"dataframe\">\n",
       "  <thead>\n",
       "    <tr style=\"text-align: right;\">\n",
       "      <th></th>\n",
       "      <th>행정동</th>\n",
       "      <th>행정동코드</th>\n",
       "    </tr>\n",
       "  </thead>\n",
       "  <tbody>\n",
       "    <tr>\n",
       "      <th>1</th>\n",
       "      <td>서울특별시</td>\n",
       "      <td>11000000.0</td>\n",
       "    </tr>\n",
       "    <tr>\n",
       "      <th>2</th>\n",
       "      <td>종로구</td>\n",
       "      <td>11110000.0</td>\n",
       "    </tr>\n",
       "    <tr>\n",
       "      <th>3</th>\n",
       "      <td>청운효자동</td>\n",
       "      <td>11110515.0</td>\n",
       "    </tr>\n",
       "  </tbody>\n",
       "</table>\n",
       "</div>"
      ],
      "text/plain": [
       "     행정동       행정동코드\n",
       "1  서울특별시  11000000.0\n",
       "2    종로구  11110000.0\n",
       "3  청운효자동  11110515.0"
      ]
     },
     "execution_count": 21,
     "metadata": {},
     "output_type": "execute_result"
    }
   ],
   "source": [
    "dfDong = pd.read_excel('data/한국행정구역분류(2022.10.1.기준).xlsx', sheet_name = '행정동 및 법정동코드와의 연계표')\n",
    "dfDong.rename(columns = dfDong.iloc[0], inplace= True) #첫번째행을 열이름으로\n",
    "dfDong.drop(dfDong.index[0],inplace=True)#첫번째행삭제\n",
    "dfDong = dfDong.astype({'행정기관코드':'int64'})\n",
    "dfDong = dfDong[['행정동\\n(행정기관명)','행정기관코드']]\n",
    "dfDong['행정기관코드'] = dfDong['행정기관코드']/100\n",
    "dfDong.columns = ['행정동','행정동코드']\n",
    "dfDong.head(3)\n",
    "#print(dfDong.info())\n",
    "#행정기관코드/100"
   ]
  },
  {
   "cell_type": "code",
   "execution_count": 28,
   "metadata": {},
   "outputs": [
    {
     "data": {
      "text/html": [
       "<div>\n",
       "<style scoped>\n",
       "    .dataframe tbody tr th:only-of-type {\n",
       "        vertical-align: middle;\n",
       "    }\n",
       "\n",
       "    .dataframe tbody tr th {\n",
       "        vertical-align: top;\n",
       "    }\n",
       "\n",
       "    .dataframe thead th {\n",
       "        text-align: right;\n",
       "    }\n",
       "</style>\n",
       "<table border=\"1\" class=\"dataframe\">\n",
       "  <thead>\n",
       "    <tr style=\"text-align: right;\">\n",
       "      <th></th>\n",
       "      <th>상권_코드</th>\n",
       "      <th>행정동코드</th>\n",
       "      <th>행정동</th>\n",
       "    </tr>\n",
       "  </thead>\n",
       "  <tbody>\n",
       "    <tr>\n",
       "      <th>0</th>\n",
       "      <td>1001453</td>\n",
       "      <td>11620585</td>\n",
       "      <td>낙성대동</td>\n",
       "    </tr>\n",
       "    <tr>\n",
       "      <th>1</th>\n",
       "      <td>1000799</td>\n",
       "      <td>11620585</td>\n",
       "      <td>낙성대동</td>\n",
       "    </tr>\n",
       "    <tr>\n",
       "      <th>2</th>\n",
       "      <td>1000780</td>\n",
       "      <td>11620585</td>\n",
       "      <td>낙성대동</td>\n",
       "    </tr>\n",
       "    <tr>\n",
       "      <th>3</th>\n",
       "      <td>1000781</td>\n",
       "      <td>11620585</td>\n",
       "      <td>낙성대동</td>\n",
       "    </tr>\n",
       "    <tr>\n",
       "      <th>4</th>\n",
       "      <td>1001454</td>\n",
       "      <td>11620595</td>\n",
       "      <td>청룡동</td>\n",
       "    </tr>\n",
       "  </tbody>\n",
       "</table>\n",
       "</div>"
      ],
      "text/plain": [
       "     상권_코드     행정동코드   행정동\n",
       "0  1001453  11620585  낙성대동\n",
       "1  1000799  11620585  낙성대동\n",
       "2  1000780  11620585  낙성대동\n",
       "3  1000781  11620585  낙성대동\n",
       "4  1001454  11620595   청룡동"
      ]
     },
     "execution_count": 28,
     "metadata": {},
     "output_type": "execute_result"
    }
   ],
   "source": [
    "#구상권코드의 행정동코드와 행정동\n",
    "df = pd.merge(d1,dfDong)\n",
    "df.head()"
   ]
  },
  {
   "cell_type": "code",
   "execution_count": 60,
   "metadata": {},
   "outputs": [
    {
     "data": {
      "text/html": [
       "<div>\n",
       "<style scoped>\n",
       "    .dataframe tbody tr th:only-of-type {\n",
       "        vertical-align: middle;\n",
       "    }\n",
       "\n",
       "    .dataframe tbody tr th {\n",
       "        vertical-align: top;\n",
       "    }\n",
       "\n",
       "    .dataframe thead th {\n",
       "        text-align: right;\n",
       "    }\n",
       "</style>\n",
       "<table border=\"1\" class=\"dataframe\">\n",
       "  <thead>\n",
       "    <tr style=\"text-align: right;\">\n",
       "      <th></th>\n",
       "      <th>상권_코드</th>\n",
       "      <th>행정동코드</th>\n",
       "      <th>행정동</th>\n",
       "      <th>기준_년_코드</th>\n",
       "      <th>기준_분기_코드</th>\n",
       "      <th>상권_코드_명</th>\n",
       "      <th>분기당_매출_금액</th>\n",
       "      <th>분기당_매출_건수</th>\n",
       "      <th>주중_매출_비율</th>\n",
       "      <th>주말_매출_비율</th>\n",
       "    </tr>\n",
       "  </thead>\n",
       "  <tbody>\n",
       "    <tr>\n",
       "      <th>0</th>\n",
       "      <td>1001453</td>\n",
       "      <td>11620585</td>\n",
       "      <td>낙성대동</td>\n",
       "      <td>2016</td>\n",
       "      <td>1</td>\n",
       "      <td>낙성대시장</td>\n",
       "      <td>21026126</td>\n",
       "      <td>1378</td>\n",
       "      <td>72</td>\n",
       "      <td>28</td>\n",
       "    </tr>\n",
       "    <tr>\n",
       "      <th>1</th>\n",
       "      <td>1001453</td>\n",
       "      <td>11620585</td>\n",
       "      <td>낙성대동</td>\n",
       "      <td>2016</td>\n",
       "      <td>1</td>\n",
       "      <td>낙성대시장</td>\n",
       "      <td>130356503</td>\n",
       "      <td>7795</td>\n",
       "      <td>64</td>\n",
       "      <td>36</td>\n",
       "    </tr>\n",
       "    <tr>\n",
       "      <th>2</th>\n",
       "      <td>1001453</td>\n",
       "      <td>11620585</td>\n",
       "      <td>낙성대동</td>\n",
       "      <td>2016</td>\n",
       "      <td>1</td>\n",
       "      <td>낙성대시장</td>\n",
       "      <td>97517609</td>\n",
       "      <td>9090</td>\n",
       "      <td>73</td>\n",
       "      <td>27</td>\n",
       "    </tr>\n",
       "    <tr>\n",
       "      <th>3</th>\n",
       "      <td>1001453</td>\n",
       "      <td>11620585</td>\n",
       "      <td>낙성대동</td>\n",
       "      <td>2016</td>\n",
       "      <td>1</td>\n",
       "      <td>낙성대시장</td>\n",
       "      <td>44900446</td>\n",
       "      <td>2604</td>\n",
       "      <td>84</td>\n",
       "      <td>16</td>\n",
       "    </tr>\n",
       "    <tr>\n",
       "      <th>4</th>\n",
       "      <td>1001453</td>\n",
       "      <td>11620585</td>\n",
       "      <td>낙성대동</td>\n",
       "      <td>2016</td>\n",
       "      <td>1</td>\n",
       "      <td>낙성대시장</td>\n",
       "      <td>92388940</td>\n",
       "      <td>3108</td>\n",
       "      <td>66</td>\n",
       "      <td>34</td>\n",
       "    </tr>\n",
       "  </tbody>\n",
       "</table>\n",
       "</div>"
      ],
      "text/plain": [
       "     상권_코드     행정동코드   행정동  기준_년_코드  기준_분기_코드 상권_코드_명  분기당_매출_금액  분기당_매출_건수  \\\n",
       "0  1001453  11620585  낙성대동     2016         1   낙성대시장   21026126       1378   \n",
       "1  1001453  11620585  낙성대동     2016         1   낙성대시장  130356503       7795   \n",
       "2  1001453  11620585  낙성대동     2016         1   낙성대시장   97517609       9090   \n",
       "3  1001453  11620585  낙성대동     2016         1   낙성대시장   44900446       2604   \n",
       "4  1001453  11620585  낙성대동     2016         1   낙성대시장   92388940       3108   \n",
       "\n",
       "   주중_매출_비율  주말_매출_비율  \n",
       "0        72        28  \n",
       "1        64        36  \n",
       "2        73        27  \n",
       "3        84        16  \n",
       "4        66        34  "
      ]
     },
     "execution_count": 60,
     "metadata": {},
     "output_type": "execute_result"
    }
   ],
   "source": [
    "df_2015 = pd.read_csv('data/서울시 우리마을가게 상권분석서비스(상권-추정매출)_2015년.csv',encoding = 'cp949')\n",
    "df_2016 = pd.read_csv('data/서울시 우리마을가게 상권분석서비스(상권-추정매출)_2016년.csv',encoding = 'cp949')\n",
    "df_2017 = pd.read_csv('data/서울시 우리마을가게 상권분석서비스(상권-추정매출)_2017년.csv',encoding = 'cp949')\n",
    "#기준_년_코드, 기준_분기_코드,상권_코드,상권_코드_명\n",
    "#분기당_매출_금액, 분기당_매출_건수,주중_매출_비율,주말_매출_비율 \n",
    "df_2015 = df_2015[['기준_년_코드','기준_분기_코드','상권_코드','상권_코드_명',\n",
    "                  '분기당_매출_금액','분기당_매출_건수','주중_매출_비율','주말_매출_비율']]\n",
    "df_2016 = df_2016[['기준_년_코드','기준_분기_코드','상권_코드','상권_코드_명',\n",
    "                  '분기당_매출_금액','분기당_매출_건수','주중_매출_비율','주말_매출_비율']]\n",
    "df_2017 = df_2017[['기준_년_코드','기준_분기_코드','상권_코드','상권_코드_명',\n",
    "                  '분기당_매출_금액','분기당_매출_건수','주중_매출_비율','주말_매출_비율']]\n",
    "\n",
    "df_2015 = pd.merge(df,df_2015)\n",
    "df_2016 = pd.merge(df,df_2016)\n",
    "df_2017 = pd.merge(df,df_2017)\n",
    "df_2016.head()\n",
    "#null값없음 확인"
   ]
  },
  {
   "cell_type": "markdown",
   "metadata": {},
   "source": [
    "## 2. 상업전후 비교\n",
    "* 행정동단위"
   ]
  },
  {
   "cell_type": "markdown",
   "metadata": {},
   "source": [
    "### 2-1. 신길로 37길, 가마산로69가길\n",
    "* 16 & 17 3분기 신길제3동"
   ]
  },
  {
   "cell_type": "code",
   "execution_count": 84,
   "metadata": {},
   "outputs": [
    {
     "name": "stdout",
     "output_type": "stream",
     "text": [
      "[2016 2017]\n",
      "[3]\n",
      "['신길제3동']\n",
      "['신길로39길' '가마산로61길' '사러가시장']\n",
      "<class 'pandas.core.frame.DataFrame'>\n",
      "Int64Index: 124 entries, 265437 to 264124\n",
      "Data columns (total 10 columns):\n",
      " #   Column     Non-Null Count  Dtype \n",
      "---  ------     --------------  ----- \n",
      " 0   상권_코드      124 non-null    int64 \n",
      " 1   행정동코드      124 non-null    int64 \n",
      " 2   행정동        124 non-null    object\n",
      " 3   기준_년_코드    124 non-null    int64 \n",
      " 4   기준_분기_코드   124 non-null    int64 \n",
      " 5   상권_코드_명    124 non-null    object\n",
      " 6   분기당_매출_금액  124 non-null    int64 \n",
      " 7   분기당_매출_건수  124 non-null    int64 \n",
      " 8   주중_매출_비율   124 non-null    int64 \n",
      " 9   주말_매출_비율   124 non-null    int64 \n",
      "dtypes: int64(8), object(2)\n",
      "memory usage: 10.7+ KB\n",
      "None\n"
     ]
    }
   ],
   "source": [
    "a = df_2016[(df_2016['행정동']=='신길제3동')& (df_2016['기준_분기_코드']==3)]\n",
    "b = df_2017[(df_2017['행정동']=='신길제3동')& (df_2017['기준_분기_코드']==3)]\n",
    "c = pd.concat([a,b])\n",
    "print(c['기준_년_코드'].unique())\n",
    "print(c['기준_분기_코드'].unique())\n",
    "print(c['행정동'].unique())\n",
    "print(c['상권_코드_명'].unique())\n",
    "print(c.info())"
   ]
  },
  {
   "cell_type": "code",
   "execution_count": 88,
   "metadata": {},
   "outputs": [],
   "source": [
    "c.groupby('기준_년_코드',as_index=False).mean()\n",
    "#c = c.astype({'기준_년_코드':'string'})"
   ]
  },
  {
   "cell_type": "code",
   "execution_count": 89,
   "metadata": {},
   "outputs": [
    {
     "data": {
      "text/plain": [
       "상권_코드         int64\n",
       "행정동코드         int64\n",
       "행정동          object\n",
       "기준_년_코드      string\n",
       "기준_분기_코드      int64\n",
       "상권_코드_명      object\n",
       "분기당_매출_금액     int64\n",
       "분기당_매출_건수     int64\n",
       "주중_매출_비율      int64\n",
       "주말_매출_비율      int64\n",
       "dtype: object"
      ]
     },
     "execution_count": 89,
     "metadata": {},
     "output_type": "execute_result"
    }
   ],
   "source": [
    "c.dtypes"
   ]
  },
  {
   "cell_type": "code",
   "execution_count": 96,
   "metadata": {},
   "outputs": [
    {
     "data": {
      "text/plain": [
       "Text(0.5, 1.0, '신길로 37길, 가마산로69가길_행정동단위_분기당_매출_금액')"
      ]
     },
     "execution_count": 96,
     "metadata": {},
     "output_type": "execute_result"
    },
    {
     "data": {
      "image/png": "[encoded data removed]",
      "text/plain": [
       "<Figure size 300x300 with 1 Axes>"
      ]
     },
     "metadata": {},
     "output_type": "display_data"
    }
   ],
   "source": [
    "plt.figure(figsize=(3, 3))\n",
    "plt.bar(c[\"기준_년_코드\"],c[\"분기당_매출_금액\"], color='cornflowerblue',width = 0.3)\n",
    "#plt.plot(a[\"항목\"],a[\"관광\"], color='mediumpurple')\n",
    "plt.xticks(rotation=0)\n",
    "#plt.grid(True)\n",
    "plt.title(\"신길로 37길, 가마산로69가길_행정동단위_분기당_매출_금액\")"
   ]
  },
  {
   "cell_type": "markdown",
   "metadata": {},
   "source": [
    "### 2-2. 중앙시장\n",
    "* 16 & 17 4분기 황학동"
   ]
  },
  {
   "cell_type": "code",
   "execution_count": 72,
   "metadata": {},
   "outputs": [
    {
     "name": "stdout",
     "output_type": "stream",
     "text": [
      "[2016 2017]\n",
      "[4]\n",
      "['황학동']\n",
      "['난계로11길' '난계로21길' '서울중앙시장']\n",
      "<class 'pandas.core.frame.DataFrame'>\n",
      "Int64Index: 126 entries, 285218 to 283974\n",
      "Data columns (total 10 columns):\n",
      " #   Column     Non-Null Count  Dtype \n",
      "---  ------     --------------  ----- \n",
      " 0   상권_코드      126 non-null    int64 \n",
      " 1   행정동코드      126 non-null    int64 \n",
      " 2   행정동        126 non-null    object\n",
      " 3   기준_년_코드    126 non-null    int64 \n",
      " 4   기준_분기_코드   126 non-null    int64 \n",
      " 5   상권_코드_명    126 non-null    object\n",
      " 6   분기당_매출_금액  126 non-null    int64 \n",
      " 7   분기당_매출_건수  126 non-null    int64 \n",
      " 8   주중_매출_비율   126 non-null    int64 \n",
      " 9   주말_매출_비율   126 non-null    int64 \n",
      "dtypes: int64(8), object(2)\n",
      "memory usage: 10.8+ KB\n",
      "None\n"
     ]
    }
   ],
   "source": [
    "a = df_2016[(df_2016['행정동']=='황학동')& (df_2016['기준_분기_코드']==4)]\n",
    "b = df_2017[(df_2017['행정동']=='황학동')& (df_2017['기준_분기_코드']==4)]\n",
    "c = pd.concat([a,b])\n",
    "print(c['기준_년_코드'].unique())\n",
    "print(c['기준_분기_코드'].unique())\n",
    "print(c['행정동'].unique())\n",
    "print(c['상권_코드_명'].unique())\n",
    "print(c.info())"
   ]
  },
  {
   "cell_type": "code",
   "execution_count": 73,
   "metadata": {},
   "outputs": [
    {
     "data": {
      "text/html": [
       "<div>\n",
       "<style scoped>\n",
       "    .dataframe tbody tr th:only-of-type {\n",
       "        vertical-align: middle;\n",
       "    }\n",
       "\n",
       "    .dataframe tbody tr th {\n",
       "        vertical-align: top;\n",
       "    }\n",
       "\n",
       "    .dataframe thead th {\n",
       "        text-align: right;\n",
       "    }\n",
       "</style>\n",
       "<table border=\"1\" class=\"dataframe\">\n",
       "  <thead>\n",
       "    <tr style=\"text-align: right;\">\n",
       "      <th></th>\n",
       "      <th>기준_년_코드</th>\n",
       "      <th>상권_코드</th>\n",
       "      <th>행정동코드</th>\n",
       "      <th>기준_분기_코드</th>\n",
       "      <th>분기당_매출_금액</th>\n",
       "      <th>분기당_매출_건수</th>\n",
       "      <th>주중_매출_비율</th>\n",
       "      <th>주말_매출_비율</th>\n",
       "    </tr>\n",
       "  </thead>\n",
       "  <tbody>\n",
       "    <tr>\n",
       "      <th>0</th>\n",
       "      <td>2016</td>\n",
       "      <td>1.000467e+06</td>\n",
       "      <td>11140670.0</td>\n",
       "      <td>4.0</td>\n",
       "      <td>3.328403e+08</td>\n",
       "      <td>10296.444444</td>\n",
       "      <td>75.888889</td>\n",
       "      <td>24.158730</td>\n",
       "    </tr>\n",
       "    <tr>\n",
       "      <th>1</th>\n",
       "      <td>2017</td>\n",
       "      <td>1.000467e+06</td>\n",
       "      <td>11140670.0</td>\n",
       "      <td>4.0</td>\n",
       "      <td>3.355472e+08</td>\n",
       "      <td>10522.111111</td>\n",
       "      <td>73.285714</td>\n",
       "      <td>26.825397</td>\n",
       "    </tr>\n",
       "  </tbody>\n",
       "</table>\n",
       "</div>"
      ],
      "text/plain": [
       "   기준_년_코드         상권_코드       행정동코드  기준_분기_코드     분기당_매출_금액     분기당_매출_건수  \\\n",
       "0     2016  1.000467e+06  11140670.0       4.0  3.328403e+08  10296.444444   \n",
       "1     2017  1.000467e+06  11140670.0       4.0  3.355472e+08  10522.111111   \n",
       "\n",
       "    주중_매출_비율   주말_매출_비율  \n",
       "0  75.888889  24.158730  \n",
       "1  73.285714  26.825397  "
      ]
     },
     "execution_count": 73,
     "metadata": {},
     "output_type": "execute_result"
    }
   ],
   "source": [
    "c.groupby('기준_년_코드',as_index=False).mean()"
   ]
  },
  {
   "cell_type": "markdown",
   "metadata": {},
   "source": [
    "## 3. 길단위 -> 전부 실시 이후 증가\n",
    "* 신길로42가길\n",
    "* 종로58길 -> 종로58가길\n",
    "* 새말로18길"
   ]
  },
  {
   "cell_type": "markdown",
   "metadata": {},
   "source": [
    "### 3-1. **신길로42가길**"
   ]
  },
  {
   "cell_type": "code",
   "execution_count": 63,
   "metadata": {},
   "outputs": [
    {
     "name": "stdout",
     "output_type": "stream",
     "text": [
      "[2016 2017]\n",
      "[4]\n",
      "['신길제1동']\n",
      "['신길로42가길']\n",
      "<class 'pandas.core.frame.DataFrame'>\n",
      "Int64Index: 17 entries, 185213 to 184243\n",
      "Data columns (total 10 columns):\n",
      " #   Column     Non-Null Count  Dtype \n",
      "---  ------     --------------  ----- \n",
      " 0   상권_코드      17 non-null     int64 \n",
      " 1   행정동코드      17 non-null     int64 \n",
      " 2   행정동        17 non-null     object\n",
      " 3   기준_년_코드    17 non-null     int64 \n",
      " 4   기준_분기_코드   17 non-null     int64 \n",
      " 5   상권_코드_명    17 non-null     object\n",
      " 6   분기당_매출_금액  17 non-null     int64 \n",
      " 7   분기당_매출_건수  17 non-null     int64 \n",
      " 8   주중_매출_비율   17 non-null     int64 \n",
      " 9   주말_매출_비율   17 non-null     int64 \n",
      "dtypes: int64(8), object(2)\n",
      "memory usage: 1.5+ KB\n",
      "None\n"
     ]
    }
   ],
   "source": [
    "a = df_2016[(df_2016['상권_코드_명']=='신길로42가길')& (df_2016['기준_분기_코드']==4)]\n",
    "b = df_2017[(df_2017['상권_코드_명']=='신길로42가길')& (df_2017['기준_분기_코드']==4)]\n",
    "c = pd.concat([a,b])\n",
    "print(c['기준_년_코드'].unique())\n",
    "print(c['기준_분기_코드'].unique())\n",
    "print(c['행정동'].unique())\n",
    "print(c['상권_코드_명'].unique())\n",
    "print(c.info())"
   ]
  },
  {
   "cell_type": "code",
   "execution_count": 64,
   "metadata": {},
   "outputs": [
    {
     "data": {
      "text/html": [
       "<div>\n",
       "<style scoped>\n",
       "    .dataframe tbody tr th:only-of-type {\n",
       "        vertical-align: middle;\n",
       "    }\n",
       "\n",
       "    .dataframe tbody tr th {\n",
       "        vertical-align: top;\n",
       "    }\n",
       "\n",
       "    .dataframe thead th {\n",
       "        text-align: right;\n",
       "    }\n",
       "</style>\n",
       "<table border=\"1\" class=\"dataframe\">\n",
       "  <thead>\n",
       "    <tr style=\"text-align: right;\">\n",
       "      <th></th>\n",
       "      <th>기준_년_코드</th>\n",
       "      <th>상권_코드</th>\n",
       "      <th>행정동코드</th>\n",
       "      <th>기준_분기_코드</th>\n",
       "      <th>분기당_매출_금액</th>\n",
       "      <th>분기당_매출_건수</th>\n",
       "      <th>주중_매출_비율</th>\n",
       "      <th>주말_매출_비율</th>\n",
       "    </tr>\n",
       "  </thead>\n",
       "  <tbody>\n",
       "    <tr>\n",
       "      <th>0</th>\n",
       "      <td>2016</td>\n",
       "      <td>1000716.0</td>\n",
       "      <td>11560630.0</td>\n",
       "      <td>4.0</td>\n",
       "      <td>8.599459e+07</td>\n",
       "      <td>8456.000</td>\n",
       "      <td>54.555556</td>\n",
       "      <td>45.555556</td>\n",
       "    </tr>\n",
       "    <tr>\n",
       "      <th>1</th>\n",
       "      <td>2017</td>\n",
       "      <td>1000716.0</td>\n",
       "      <td>11560630.0</td>\n",
       "      <td>4.0</td>\n",
       "      <td>8.992302e+07</td>\n",
       "      <td>10283.375</td>\n",
       "      <td>55.750000</td>\n",
       "      <td>44.250000</td>\n",
       "    </tr>\n",
       "  </tbody>\n",
       "</table>\n",
       "</div>"
      ],
      "text/plain": [
       "   기준_년_코드      상권_코드       행정동코드  기준_분기_코드     분기당_매출_금액  분기당_매출_건수  \\\n",
       "0     2016  1000716.0  11560630.0       4.0  8.599459e+07   8456.000   \n",
       "1     2017  1000716.0  11560630.0       4.0  8.992302e+07  10283.375   \n",
       "\n",
       "    주중_매출_비율   주말_매출_비율  \n",
       "0  54.555556  45.555556  \n",
       "1  55.750000  44.250000  "
      ]
     },
     "execution_count": 64,
     "metadata": {},
     "output_type": "execute_result"
    }
   ],
   "source": [
    "c.groupby('기준_년_코드',as_index=False).mean()"
   ]
  },
  {
   "cell_type": "markdown",
   "metadata": {},
   "source": [
    "### 3-2. **종로58가길**\n",
    "* 주말이랑 공휴일만 실시했는데, 주말매출비율 증가!\n",
    "* 전일제로 실시한 지역과 비교했을 때 주말매출 훨씬증가해서 완전 좋은증거!"
   ]
  },
  {
   "cell_type": "code",
   "execution_count": 65,
   "metadata": {},
   "outputs": [
    {
     "name": "stdout",
     "output_type": "stream",
     "text": [
      "[2015 2016]\n",
      "[4]\n",
      "['숭인제2동']\n",
      "['종로58가길']\n",
      "<class 'pandas.core.frame.DataFrame'>\n",
      "Int64Index: 49 entries, 232964 to 235203\n",
      "Data columns (total 10 columns):\n",
      " #   Column     Non-Null Count  Dtype \n",
      "---  ------     --------------  ----- \n",
      " 0   상권_코드      49 non-null     int64 \n",
      " 1   행정동코드      49 non-null     int64 \n",
      " 2   행정동        49 non-null     object\n",
      " 3   기준_년_코드    49 non-null     int64 \n",
      " 4   기준_분기_코드   49 non-null     int64 \n",
      " 5   상권_코드_명    49 non-null     object\n",
      " 6   분기당_매출_금액  49 non-null     int64 \n",
      " 7   분기당_매출_건수  49 non-null     int64 \n",
      " 8   주중_매출_비율   49 non-null     int64 \n",
      " 9   주말_매출_비율   49 non-null     int64 \n",
      "dtypes: int64(8), object(2)\n",
      "memory usage: 4.2+ KB\n",
      "None\n"
     ]
    }
   ],
   "source": [
    "a = df_2015[(df_2015['상권_코드_명']=='종로58가길')& (df_2015['기준_분기_코드']==4)]\n",
    "b = df_2016[(df_2016['상권_코드_명']=='종로58가길')& (df_2016['기준_분기_코드']==4)]\n",
    "c = pd.concat([a,b])\n",
    "print(c['기준_년_코드'].unique())\n",
    "print(c['기준_분기_코드'].unique())\n",
    "print(c['행정동'].unique())\n",
    "print(c['상권_코드_명'].unique())\n",
    "print(c.info())"
   ]
  },
  {
   "cell_type": "code",
   "execution_count": 66,
   "metadata": {},
   "outputs": [
    {
     "data": {
      "text/html": [
       "<div>\n",
       "<style scoped>\n",
       "    .dataframe tbody tr th:only-of-type {\n",
       "        vertical-align: middle;\n",
       "    }\n",
       "\n",
       "    .dataframe tbody tr th {\n",
       "        vertical-align: top;\n",
       "    }\n",
       "\n",
       "    .dataframe thead th {\n",
       "        text-align: right;\n",
       "    }\n",
       "</style>\n",
       "<table border=\"1\" class=\"dataframe\">\n",
       "  <thead>\n",
       "    <tr style=\"text-align: right;\">\n",
       "      <th></th>\n",
       "      <th>기준_년_코드</th>\n",
       "      <th>상권_코드</th>\n",
       "      <th>행정동코드</th>\n",
       "      <th>기준_분기_코드</th>\n",
       "      <th>분기당_매출_금액</th>\n",
       "      <th>분기당_매출_건수</th>\n",
       "      <th>주중_매출_비율</th>\n",
       "      <th>주말_매출_비율</th>\n",
       "    </tr>\n",
       "  </thead>\n",
       "  <tbody>\n",
       "    <tr>\n",
       "      <th>0</th>\n",
       "      <td>2015</td>\n",
       "      <td>1000018.0</td>\n",
       "      <td>11110710.0</td>\n",
       "      <td>4.0</td>\n",
       "      <td>2.278248e+08</td>\n",
       "      <td>14561.800000</td>\n",
       "      <td>77.160000</td>\n",
       "      <td>22.920000</td>\n",
       "    </tr>\n",
       "    <tr>\n",
       "      <th>1</th>\n",
       "      <td>2016</td>\n",
       "      <td>1000018.0</td>\n",
       "      <td>11110710.0</td>\n",
       "      <td>4.0</td>\n",
       "      <td>2.332730e+08</td>\n",
       "      <td>16762.458333</td>\n",
       "      <td>72.541667</td>\n",
       "      <td>27.583333</td>\n",
       "    </tr>\n",
       "  </tbody>\n",
       "</table>\n",
       "</div>"
      ],
      "text/plain": [
       "   기준_년_코드      상권_코드       행정동코드  기준_분기_코드     분기당_매출_금액     분기당_매출_건수  \\\n",
       "0     2015  1000018.0  11110710.0       4.0  2.278248e+08  14561.800000   \n",
       "1     2016  1000018.0  11110710.0       4.0  2.332730e+08  16762.458333   \n",
       "\n",
       "    주중_매출_비율   주말_매출_비율  \n",
       "0  77.160000  22.920000  \n",
       "1  72.541667  27.583333  "
      ]
     },
     "execution_count": 66,
     "metadata": {},
     "output_type": "execute_result"
    }
   ],
   "source": [
    "c.groupby('기준_년_코드',as_index=False).mean()"
   ]
  },
  {
   "cell_type": "markdown",
   "metadata": {},
   "source": [
    "### 3-3. **새말로18길**"
   ]
  },
  {
   "cell_type": "code",
   "execution_count": 68,
   "metadata": {},
   "outputs": [
    {
     "name": "stdout",
     "output_type": "stream",
     "text": [
      "[2016 2017]\n",
      "[4]\n",
      "['구로제5동']\n",
      "['새말로18길']\n",
      "<class 'pandas.core.frame.DataFrame'>\n",
      "Int64Index: 42 entries, 153407 to 152477\n",
      "Data columns (total 10 columns):\n",
      " #   Column     Non-Null Count  Dtype \n",
      "---  ------     --------------  ----- \n",
      " 0   상권_코드      42 non-null     int64 \n",
      " 1   행정동코드      42 non-null     int64 \n",
      " 2   행정동        42 non-null     object\n",
      " 3   기준_년_코드    42 non-null     int64 \n",
      " 4   기준_분기_코드   42 non-null     int64 \n",
      " 5   상권_코드_명    42 non-null     object\n",
      " 6   분기당_매출_금액  42 non-null     int64 \n",
      " 7   분기당_매출_건수  42 non-null     int64 \n",
      " 8   주중_매출_비율   42 non-null     int64 \n",
      " 9   주말_매출_비율   42 non-null     int64 \n",
      "dtypes: int64(8), object(2)\n",
      "memory usage: 3.6+ KB\n",
      "None\n"
     ]
    }
   ],
   "source": [
    "a = df_2016[(df_2016['상권_코드_명']=='새말로18길')& (df_2016['기준_분기_코드']==4)]\n",
    "b = df_2017[(df_2017['상권_코드_명']=='새말로18길')& (df_2017['기준_분기_코드']==4)]\n",
    "c = pd.concat([a,b])\n",
    "print(c['기준_년_코드'].unique())\n",
    "print(c['기준_분기_코드'].unique())\n",
    "print(c['행정동'].unique())\n",
    "print(c['상권_코드_명'].unique())\n",
    "print(c.info())"
   ]
  },
  {
   "cell_type": "code",
   "execution_count": 69,
   "metadata": {},
   "outputs": [
    {
     "data": {
      "text/html": [
       "<div>\n",
       "<style scoped>\n",
       "    .dataframe tbody tr th:only-of-type {\n",
       "        vertical-align: middle;\n",
       "    }\n",
       "\n",
       "    .dataframe tbody tr th {\n",
       "        vertical-align: top;\n",
       "    }\n",
       "\n",
       "    .dataframe thead th {\n",
       "        text-align: right;\n",
       "    }\n",
       "</style>\n",
       "<table border=\"1\" class=\"dataframe\">\n",
       "  <thead>\n",
       "    <tr style=\"text-align: right;\">\n",
       "      <th></th>\n",
       "      <th>기준_년_코드</th>\n",
       "      <th>상권_코드</th>\n",
       "      <th>행정동코드</th>\n",
       "      <th>기준_분기_코드</th>\n",
       "      <th>분기당_매출_금액</th>\n",
       "      <th>분기당_매출_건수</th>\n",
       "      <th>주중_매출_비율</th>\n",
       "      <th>주말_매출_비율</th>\n",
       "    </tr>\n",
       "  </thead>\n",
       "  <tbody>\n",
       "    <tr>\n",
       "      <th>0</th>\n",
       "      <td>2016</td>\n",
       "      <td>1000648.0</td>\n",
       "      <td>11530560.0</td>\n",
       "      <td>4.0</td>\n",
       "      <td>3.012239e+08</td>\n",
       "      <td>9801.636364</td>\n",
       "      <td>73.818182</td>\n",
       "      <td>26.272727</td>\n",
       "    </tr>\n",
       "    <tr>\n",
       "      <th>1</th>\n",
       "      <td>2017</td>\n",
       "      <td>1000648.0</td>\n",
       "      <td>11530560.0</td>\n",
       "      <td>4.0</td>\n",
       "      <td>3.843541e+08</td>\n",
       "      <td>11396.150000</td>\n",
       "      <td>72.450000</td>\n",
       "      <td>27.700000</td>\n",
       "    </tr>\n",
       "  </tbody>\n",
       "</table>\n",
       "</div>"
      ],
      "text/plain": [
       "   기준_년_코드      상권_코드       행정동코드  기준_분기_코드     분기당_매출_금액     분기당_매출_건수  \\\n",
       "0     2016  1000648.0  11530560.0       4.0  3.012239e+08   9801.636364   \n",
       "1     2017  1000648.0  11530560.0       4.0  3.843541e+08  11396.150000   \n",
       "\n",
       "    주중_매출_비율   주말_매출_비율  \n",
       "0  73.818182  26.272727  \n",
       "1  72.450000  27.700000  "
      ]
     },
     "execution_count": 69,
     "metadata": {},
     "output_type": "execute_result"
    }
   ],
   "source": [
    "c.groupby('기준_년_코드',as_index=False).mean()"
   ]
  },
  {
   "cell_type": "code",
   "execution_count": null,
   "metadata": {},
   "outputs": [],
   "source": []
  },
  {
   "cell_type": "markdown",
   "metadata": {},
   "source": [
    "## 3. 비고"
   ]
  },
  {
   "cell_type": "markdown",
   "metadata": {},
   "source": [
    "### 2-3. 신길로 42가길\n",
    "* 16 & 17 4분기 영등포본동"
   ]
  },
  {
   "cell_type": "code",
   "execution_count": 76,
   "metadata": {},
   "outputs": [
    {
     "name": "stdout",
     "output_type": "stream",
     "text": [
      "[2016 2017]\n",
      "[4]\n",
      "['영등포본동']\n",
      "['신길로60길' '영신로9길' '영등포로62길']\n",
      "<class 'pandas.core.frame.DataFrame'>\n",
      "Int64Index: 244 entries, 201478 to 200920\n",
      "Data columns (total 10 columns):\n",
      " #   Column     Non-Null Count  Dtype \n",
      "---  ------     --------------  ----- \n",
      " 0   상권_코드      244 non-null    int64 \n",
      " 1   행정동코드      244 non-null    int64 \n",
      " 2   행정동        244 non-null    object\n",
      " 3   기준_년_코드    244 non-null    int64 \n",
      " 4   기준_분기_코드   244 non-null    int64 \n",
      " 5   상권_코드_명    244 non-null    object\n",
      " 6   분기당_매출_금액  244 non-null    int64 \n",
      " 7   분기당_매출_건수  244 non-null    int64 \n",
      " 8   주중_매출_비율   244 non-null    int64 \n",
      " 9   주말_매출_비율   244 non-null    int64 \n",
      "dtypes: int64(8), object(2)\n",
      "memory usage: 21.0+ KB\n",
      "None\n"
     ]
    }
   ],
   "source": [
    "a = df_2016[(df_2016['행정동']=='영등포본동')& (df_2016['기준_분기_코드']==4)]\n",
    "b = df_2017[(df_2017['행정동']=='영등포본동')& (df_2017['기준_분기_코드']==4)]\n",
    "c = pd.concat([a,b])\n",
    "print(c['기준_년_코드'].unique())\n",
    "print(c['기준_분기_코드'].unique())\n",
    "print(c['행정동'].unique())\n",
    "print(c['상권_코드_명'].unique())\n",
    "print(c.info())"
   ]
  },
  {
   "cell_type": "code",
   "execution_count": 77,
   "metadata": {},
   "outputs": [
    {
     "data": {
      "text/html": [
       "<div>\n",
       "<style scoped>\n",
       "    .dataframe tbody tr th:only-of-type {\n",
       "        vertical-align: middle;\n",
       "    }\n",
       "\n",
       "    .dataframe tbody tr th {\n",
       "        vertical-align: top;\n",
       "    }\n",
       "\n",
       "    .dataframe thead th {\n",
       "        text-align: right;\n",
       "    }\n",
       "</style>\n",
       "<table border=\"1\" class=\"dataframe\">\n",
       "  <thead>\n",
       "    <tr style=\"text-align: right;\">\n",
       "      <th></th>\n",
       "      <th>기준_년_코드</th>\n",
       "      <th>상권_코드</th>\n",
       "      <th>행정동코드</th>\n",
       "      <th>기준_분기_코드</th>\n",
       "      <th>분기당_매출_금액</th>\n",
       "      <th>분기당_매출_건수</th>\n",
       "      <th>주중_매출_비율</th>\n",
       "      <th>주말_매출_비율</th>\n",
       "    </tr>\n",
       "  </thead>\n",
       "  <tbody>\n",
       "    <tr>\n",
       "      <th>0</th>\n",
       "      <td>2016</td>\n",
       "      <td>1.000726e+06</td>\n",
       "      <td>11560515.0</td>\n",
       "      <td>4.0</td>\n",
       "      <td>1.598538e+08</td>\n",
       "      <td>8763.412698</td>\n",
       "      <td>73.269841</td>\n",
       "      <td>26.841270</td>\n",
       "    </tr>\n",
       "    <tr>\n",
       "      <th>1</th>\n",
       "      <td>2017</td>\n",
       "      <td>1.000726e+06</td>\n",
       "      <td>11560515.0</td>\n",
       "      <td>4.0</td>\n",
       "      <td>1.732762e+08</td>\n",
       "      <td>10147.881356</td>\n",
       "      <td>70.711864</td>\n",
       "      <td>29.338983</td>\n",
       "    </tr>\n",
       "  </tbody>\n",
       "</table>\n",
       "</div>"
      ],
      "text/plain": [
       "   기준_년_코드         상권_코드       행정동코드  기준_분기_코드     분기당_매출_금액     분기당_매출_건수  \\\n",
       "0     2016  1.000726e+06  11560515.0       4.0  1.598538e+08   8763.412698   \n",
       "1     2017  1.000726e+06  11560515.0       4.0  1.732762e+08  10147.881356   \n",
       "\n",
       "    주중_매출_비율   주말_매출_비율  \n",
       "0  73.269841  26.841270  \n",
       "1  70.711864  29.338983  "
      ]
     },
     "execution_count": 77,
     "metadata": {},
     "output_type": "execute_result"
    }
   ],
   "source": [
    "c.groupby('기준_년_코드',as_index=False).mean()"
   ]
  },
  {
   "cell_type": "code",
   "execution_count": null,
   "metadata": {},
   "outputs": [],
   "source": []
  }
 ],
 "metadata": {
  "kernelspec": {
   "display_name": "Python 3.10.6 ('adv_analysis')",
   "language": "python",
   "name": "python3"
  },
  "language_info": {
   "codemirror_mode": {
    "name": "ipython",
    "version": 3
   },
   "file_extension": ".py",
   "mimetype": "text/x-python",
   "name": "python",
   "nbconvert_exporter": "python",
   "pygments_lexer": "ipython3",
   "version": "3.10.6"
  },
  "orig_nbformat": 4,
  "vscode": {
   "interpreter": {
    "hash": "fd4ca7ec3520f3d442737cc20e06f79c0e856b30e86c015e6f25d8bfdc13a88a"
   }
  }
 },
 "nbformat": 4,
 "nbformat_minor": 2
}
